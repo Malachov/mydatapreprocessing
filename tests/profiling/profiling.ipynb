{
 "cells": [
  {
   "cell_type": "code",
   "execution_count": 6,
   "metadata": {},
   "outputs": [
    {
     "name": "stdout",
     "output_type": "stream",
     "text": [
      "The memory_profiler extension is already loaded. To reload it, use:\n",
      "  %reload_ext memory_profiler\n",
      "The line_profiler extension is already loaded. To reload it, use:\n",
      "  %reload_ext line_profiler\n",
      "The autoreload extension is already loaded. To reload it, use:\n",
      "  %reload_ext autoreload\n",
      "c:\\Users\\Turtor\\ownCloud\\Github\\predictit\\predictit\n"
     ]
    }
   ],
   "source": [
    "%load_ext memory_profiler\n",
    "%load_ext line_profiler\n",
    "%load_ext autoreload\n",
    "%autoreload 2\n",
    "\n",
    "import sys\n",
    "from pathlib import Path\n",
    "import numpy as np\n",
    "import pandas as pd\n",
    "\n",
    "sys.path.insert(0, Path.cwd().parent.as_posix())\n",
    "\n",
    "\n",
    "print(Path.cwd().parent / \"predictit\")\n",
    "\n",
    "# import profiled\n",
    "\n",
    "# import predictit\n",
    "# from predictit import config\n",
    "\n",
    "# config.update({\n",
    "# #    'print': 0,\n",
    "# })\n"
   ]
  },
  {
   "cell_type": "code",
   "execution_count": 21,
   "metadata": {},
   "outputs": [],
   "source": [
    "# arr = np.random.randn(100, 100)\n",
    "# arr[40, 40] = np.nan\n",
    "# big_arr = np.random.randn(20000, 5)\n",
    "# df = pd.DataFrame(arr)\n",
    "# big_df = pd.DataFrame(big_arr)"
   ]
  },
  {
   "cell_type": "code",
   "execution_count": 3,
   "metadata": {},
   "outputs": [],
   "source": [
    "# Memory profiling\n",
    "# import profiled\n",
    "\n",
    "# %lprun -f profiled.profiled profiled.profiled()\n",
    "# %mprun -f predictit.create_model_inputs.make_sequences predictit.create_model_inputs.make_sequences(big_arr, 8)\n",
    "# %mprun -f predictit.create_model_inputs.make_sequences predictit.create_model_inputs.make_sequences(big_arr, 8)\n",
    "\n",
    "\n",
    "# Time profiling\n",
    "\n",
    "# %lprun -f predictit.main.predict predictit.main.predict()\n"
   ]
  },
  {
   "cell_type": "code",
   "execution_count": 16,
   "metadata": {},
   "outputs": [
    {
     "name": "stdout",
     "output_type": "stream",
     "text": [
      "10.2 µs ± 311 ns per loop (mean ± std. dev. of 7 runs, 100000 loops each)\n"
     ]
    }
   ],
   "source": [
    "# %%timeit\n",
    "# np.isnan(df.values.sum())"
   ]
  }
 ],
 "metadata": {
  "interpreter": {
   "hash": "c1d09f119af83acc786b8c46b86461bcdd860f238987d55363cb76535f94177b"
  },
  "kernelspec": {
   "display_name": "Python 3.9.2 64-bit",
   "name": "python3"
  },
  "language_info": {
   "codemirror_mode": {
    "name": "ipython",
    "version": 3
   },
   "file_extension": ".py",
   "mimetype": "text/x-python",
   "name": "python",
   "nbconvert_exporter": "python",
   "pygments_lexer": "ipython3",
   "version": "3.9.7"
  },
  "metadata": {
   "interpreter": {
    "hash": "c1d09f119af83acc786b8c46b86461bcdd860f238987d55363cb76535f94177b"
   }
  },
  "toc": {
   "base_numbering": 1,
   "nav_menu": {},
   "number_sections": true,
   "sideBar": true,
   "skip_h1_title": false,
   "title_cell": "Table of Contents",
   "title_sidebar": "Contents",
   "toc_cell": false,
   "toc_position": {},
   "toc_section_display": true,
   "toc_window_display": false
  }
 },
 "nbformat": 4,
 "nbformat_minor": 2
}
