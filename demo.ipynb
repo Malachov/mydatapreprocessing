{
 "cells": [
  {
   "cell_type": "code",
   "execution_count": 2,
   "source": [
    "import sys\r\n",
    "sys.path.insert(0, r\"C:\\Users\\Malac\\ownCloud\\Github\\mydatapreprocessing\")"
   ],
   "outputs": [],
   "metadata": {}
  },
  {
   "cell_type": "markdown",
   "source": [
    "# Mydatapreprocessing\n",
    "\n",
    "## Data load, consolidation, conversion a preprocessing"
   ],
   "metadata": {
    "slideshow": {
     "slide_type": "slide"
    }
   }
  },
  {
   "cell_type": "markdown",
   "source": [
    "## Installation and import\n",
    "\n",
    "    pip install mydatapreprocessing\n",
    "\n",
    "There are some extra libraries that may be necessary for some functionality (h5 and parquet). If import error, install library. If you want to install all extra libraries at once, download [requirements](https://github.com/Malachov/mydatapreprocessing/blob/master/requirements_advanced.txt) and install all with\n",
    "\n",
    "    pip install -r requirements_advanced.txt"
   ],
   "metadata": {
    "slideshow": {
     "slide_type": "slide"
    }
   }
  },
  {
   "cell_type": "code",
   "execution_count": 3,
   "source": [
    "import mydatapreprocessing as mdp"
   ],
   "outputs": [],
   "metadata": {
    "scrolled": true,
    "slideshow": {
     "slide_type": "subslide"
    }
   }
  },
  {
   "cell_type": "markdown",
   "source": [
    "## Load data from web"
   ],
   "metadata": {
    "slideshow": {
     "slide_type": "slide"
    }
   }
  },
  {
   "cell_type": "markdown",
   "source": [
    "Possible formats\n",
    "\n",
    "- csv\n",
    "- xls, xlsx\n",
    "- json\n",
    "- h5\n",
    "- parquet\n",
    "\n",
    "+ python (list, dictionary, numpy.ndarray, pandas.DataFrame)"
   ],
   "metadata": {
    "slideshow": {
     "slide_type": "subslide"
    }
   }
  },
  {
   "cell_type": "code",
   "execution_count": 8,
   "source": [
    "data_loaded = mdp.load_data.load_data(\"https://www.ncdc.noaa.gov/cag/global/time-series/globe/land_ocean/ytd/12/1880-2016.json\", request_datatype_suffix=\".json\", predicted_table='data', data_orientation=\"index\")\n",
    "print(data_loaded.head())\n",
    "\n",
    "# Save it just for another examples of loading from disk\n",
    "data_loaded.to_csv(\"tested_data.csv\", index=False)\n",
    "data_loaded.to_csv(\"tested_data2.csv\", index=False)"
   ],
   "outputs": [
    {
     "output_type": "stream",
     "name": "stdout",
     "text": [
      "       0\n",
      "0  -0.12\n",
      "1  -0.09\n",
      "2  -0.10\n",
      "3  -0.18\n",
      "4  -0.27\n"
     ]
    }
   ],
   "metadata": {
    "scrolled": true,
    "slideshow": {
     "slide_type": "subslide"
    }
   }
  },
  {
   "cell_type": "markdown",
   "source": [
    "## Load data from disk"
   ],
   "metadata": {
    "slideshow": {
     "slide_type": "slide"
    }
   }
  },
  {
   "cell_type": "code",
   "execution_count": 5,
   "source": [
    "data = mdp.load_data.load_data(r\"tested_data.csv\")  # If necessary edit csv_style={'sep': ';', 'decimal': ','}, header=6\n",
    "data.plot()"
   ],
   "outputs": [
    {
     "output_type": "execute_result",
     "data": {
      "text/plain": [
       "<AxesSubplot:>"
      ]
     },
     "metadata": {},
     "execution_count": 5
    },
    {
     "output_type": "display_data",
     "data": {
      "text/plain": [
       "<Figure size 432x288 with 1 Axes>"
      ],
      "image/png": "[encoded data removed]"
     },
     "metadata": {
      "needs_background": "light"
     }
    }
   ],
   "metadata": {
    "scrolled": true,
    "slideshow": {
     "slide_type": "subslide"
    }
   }
  },
  {
   "cell_type": "markdown",
   "source": [
    "## Load more data files at once"
   ],
   "metadata": {
    "slideshow": {
     "slide_type": "slide"
    }
   }
  },
  {
   "cell_type": "markdown",
   "source": [
    "### Get list of paths\n",
    "\n",
    "You can select data simply with dialog window\n",
    "\n",
    "Uncomment line to try it out"
   ],
   "metadata": {}
  },
  {
   "cell_type": "code",
   "execution_count": 11,
   "source": [
    "paths = [\"tested_data.csv\", \"tested_data2.csv\"]\n",
    "# paths = mdp.load_data.get_file_paths()\n",
    "paths"
   ],
   "outputs": [
    {
     "output_type": "execute_result",
     "data": {
      "text/plain": [
       "['tested_data.csv', 'tested_data2.csv']"
      ]
     },
     "metadata": {},
     "execution_count": 11
    }
   ],
   "metadata": {}
  },
  {
   "cell_type": "code",
   "execution_count": 12,
   "source": [
    "data = mdp.load_data.load_data(paths, csv_style={'sep': ';', 'decimal': ','}, header=6)\n",
    "# Length is twice as long as two files was used\n",
    "data"
   ],
   "outputs": [],
   "metadata": {
    "scrolled": true,
    "slideshow": {
     "slide_type": "subslide"
    }
   }
  },
  {
   "cell_type": "markdown",
   "source": [
    "## Consolidation\n",
    "\n",
    "Remove NaN values, resample or do string embedding"
   ],
   "metadata": {
    "slideshow": {
     "slide_type": "slide"
    }
   }
  },
  {
   "cell_type": "code",
   "execution_count": 14,
   "source": [
    "data = mdp.load_data.load_data(r\"https://raw.githubusercontent.com/jbrownlee/Datasets/master/daily-min-temperatures.csv\")\n",
    "data = mdp.preprocessing.data_consolidation(data, datetime_column='Date', freq='M', dtype='float32')\n",
    "data"
   ],
   "outputs": [
    {
     "output_type": "execute_result",
     "data": {
      "text/plain": [
       "                  Temp\n",
       "Date                  \n",
       "1981-01-31  549.099976\n",
       "1981-02-28  495.000000\n",
       "1981-03-31  418.500000\n",
       "1981-04-30  370.700012\n",
       "1981-05-31  294.200012\n",
       "...                ...\n",
       "1990-08-31  242.600006\n",
       "1990-09-30  275.000000\n",
       "1990-10-31  351.700012\n",
       "1990-11-30  379.700012\n",
       "1990-12-31  445.399994\n",
       "\n",
       "[120 rows x 1 columns]"
      ],
      "text/html": [
       "<div>\n",
       "<style scoped>\n",
       "    .dataframe tbody tr th:only-of-type {\n",
       "        vertical-align: middle;\n",
       "    }\n",
       "\n",
       "    .dataframe tbody tr th {\n",
       "        vertical-align: top;\n",
       "    }\n",
       "\n",
       "    .dataframe thead th {\n",
       "        text-align: right;\n",
       "    }\n",
       "</style>\n",
       "<table border=\"1\" class=\"dataframe\">\n",
       "  <thead>\n",
       "    <tr style=\"text-align: right;\">\n",
       "      <th></th>\n",
       "      <th>Temp</th>\n",
       "    </tr>\n",
       "    <tr>\n",
       "      <th>Date</th>\n",
       "      <th></th>\n",
       "    </tr>\n",
       "  </thead>\n",
       "  <tbody>\n",
       "    <tr>\n",
       "      <th>1981-01-31</th>\n",
       "      <td>549.099976</td>\n",
       "    </tr>\n",
       "    <tr>\n",
       "      <th>1981-02-28</th>\n",
       "      <td>495.000000</td>\n",
       "    </tr>\n",
       "    <tr>\n",
       "      <th>1981-03-31</th>\n",
       "      <td>418.500000</td>\n",
       "    </tr>\n",
       "    <tr>\n",
       "      <th>1981-04-30</th>\n",
       "      <td>370.700012</td>\n",
       "    </tr>\n",
       "    <tr>\n",
       "      <th>1981-05-31</th>\n",
       "      <td>294.200012</td>\n",
       "    </tr>\n",
       "    <tr>\n",
       "      <th>...</th>\n",
       "      <td>...</td>\n",
       "    </tr>\n",
       "    <tr>\n",
       "      <th>1990-08-31</th>\n",
       "      <td>242.600006</td>\n",
       "    </tr>\n",
       "    <tr>\n",
       "      <th>1990-09-30</th>\n",
       "      <td>275.000000</td>\n",
       "    </tr>\n",
       "    <tr>\n",
       "      <th>1990-10-31</th>\n",
       "      <td>351.700012</td>\n",
       "    </tr>\n",
       "    <tr>\n",
       "      <th>1990-11-30</th>\n",
       "      <td>379.700012</td>\n",
       "    </tr>\n",
       "    <tr>\n",
       "      <th>1990-12-31</th>\n",
       "      <td>445.399994</td>\n",
       "    </tr>\n",
       "  </tbody>\n",
       "</table>\n",
       "<p>120 rows × 1 columns</p>\n",
       "</div>"
      ]
     },
     "metadata": {},
     "execution_count": 14
    }
   ],
   "metadata": {
    "scrolled": true,
    "slideshow": {
     "slide_type": "subslide"
    }
   }
  },
  {
   "cell_type": "markdown",
   "source": [
    "## Format conversion\n",
    "\n",
    "Because data are consolidated (everytime in the same format), it's very simple to convert it to any format.\n"
   ],
   "metadata": {
    "slideshow": {
     "slide_type": "slide"
    }
   }
  },
  {
   "cell_type": "code",
   "execution_count": 15,
   "source": [
    "parquet_converted = data.to_parquet('data.parquet')"
   ],
   "outputs": [],
   "metadata": {
    "scrolled": true,
    "slideshow": {
     "slide_type": "subslide"
    }
   }
  },
  {
   "cell_type": "markdown",
   "source": [
    "## Preprocessing\n",
    "\n",
    "Functions for smoothing, standardization, outliers removal etc...\n"
   ],
   "metadata": {
    "slideshow": {
     "slide_type": "slide"
    }
   }
  },
  {
   "cell_type": "markdown",
   "source": [
    "# Mydatapreprocessing\n",
    "## [Dokumentace](https://mydatapreprocessing.readthedocs.io/)\n",
    "## [Repo](https://github.com/Malachov/mydatapreprocessing)"
   ],
   "metadata": {
    "slideshow": {
     "slide_type": "fragment"
    }
   }
  },
  {
   "cell_type": "markdown",
   "source": [],
   "metadata": {
    "slideshow": {
     "slide_type": "fragment"
    }
   }
  }
 ],
 "metadata": {
  "celltoolbar": "Slideshow",
  "interpreter": {
   "hash": "63fd5069d213b44bf678585dea6b12cceca9941eaf7f819626cde1f2670de90d"
  },
  "kernelspec": {
   "display_name": "Python 3",
   "language": "python",
   "name": "python3"
  },
  "language_info": {
   "codemirror_mode": {
    "name": "ipython",
    "version": 3
   },
   "file_extension": ".py",
   "mimetype": "text/x-python",
   "name": "python",
   "nbconvert_exporter": "python",
   "pygments_lexer": "ipython3",
   "version": "3.9.2"
  }
 },
 "nbformat": 4,
 "nbformat_minor": 2
}