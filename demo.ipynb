{
 "cells": [
  {
   "cell_type": "markdown",
   "metadata": {
    "slideshow": {
     "slide_type": "slide"
    }
   },
   "source": [
    "# Mydatapreprocessing\n",
    "\n",
    "## Data load, consolidation, conversion a preprocessing\n",
    "\n",
    "## [Documentation](https://mydatapreprocessing.readthedocs.io/)\n",
    "\n",
    "## [Github repo](https://github.com/Malachov/mydatapreprocessing)"
   ]
  },
  {
   "cell_type": "markdown",
   "metadata": {
    "slideshow": {
     "slide_type": "slide"
    }
   },
   "source": [
    "## Installation and import\n",
    "\n",
    "    pip install mydatapreprocessing\n",
    "\n",
    "There are some extra libraries that may be necessary for some functionality (h5 and parquet). If import error, install library. If you want to install all extra libraries at once, download [requirements](https://github.com/Malachov/mydatapreprocessing/blob/master/requirements_advanced.txt) and install all with\n",
    "\n",
    "    pip install -r requirements_advanced.txt"
   ]
  },
  {
   "cell_type": "code",
   "execution_count": 1,
   "metadata": {
    "scrolled": true,
    "slideshow": {
     "slide_type": "subslide"
    }
   },
   "outputs": [],
   "source": [
    "import mydatapreprocessing as mdp\n",
    "import pandas as pd"
   ]
  },
  {
   "cell_type": "markdown",
   "metadata": {
    "slideshow": {
     "slide_type": "slide"
    }
   },
   "source": [
    "## Load data"
   ]
  },
  {
   "cell_type": "markdown",
   "metadata": {
    "slideshow": {
     "slide_type": "subslide"
    }
   },
   "source": [
    "You can use\n",
    "\n",
    "- python formats (numpy.ndarray, pd.DataFrame, list, tuple, dict)\n",
    "- local files\n",
    "- web urls\n",
    "\n",
    "Supported path formats are:\n",
    "\n",
    "- csv\n",
    "- xlsx and xls\n",
    "- json\n",
    "    - parquet\n",
    "    - h5"
   ]
  },
  {
   "cell_type": "code",
   "execution_count": 2,
   "metadata": {
    "scrolled": true,
    "slideshow": {
     "slide_type": "subslide"
    }
   },
   "outputs": [
    {
     "name": "stdout",
     "output_type": "stream",
     "text": [
      "         Date    Mean   Source\n",
      "0  1881-03-06  0.0100  GISTEMP\n",
      "1  1881-02-06 -0.0296     GCAG\n",
      "2  1881-02-06 -0.1400  GISTEMP\n",
      "3  1881-01-06 -0.0205     GCAG\n",
      "4  1881-01-06 -0.1000  GISTEMP\n"
     ]
    }
   ],
   "source": [
    "data_loaded = mdp.load_data.load_data(\"https://raw.githubusercontent.com/Malachov/mydatapreprocessing/master/tests/test_files/list.json\")\n",
    "\n",
    "print(data_loaded.head())\n"
   ]
  },
  {
   "cell_type": "markdown",
   "metadata": {},
   "source": [
    "Sometime you need to add arguments to load data correctly"
   ]
  },
  {
   "cell_type": "code",
   "execution_count": 3,
   "metadata": {},
   "outputs": [],
   "source": [
    "# data_loaded = mdp.load_data.load_data(\"different_structure/web_request\", request_datatype_suffix=\".json\", field='data', data_orientation=\"index\")"
   ]
  },
  {
   "cell_type": "markdown",
   "metadata": {
    "slideshow": {
     "slide_type": "slide"
    }
   },
   "source": [
    "## Load data from disk"
   ]
  },
  {
   "cell_type": "code",
   "execution_count": 4,
   "metadata": {
    "scrolled": true,
    "slideshow": {
     "slide_type": "subslide"
    }
   },
   "outputs": [
    {
     "data": {
      "text/plain": [
       "<AxesSubplot:>"
      ]
     },
     "execution_count": 4,
     "metadata": {},
     "output_type": "execute_result"
    },
    {
     "data": {
      "image/png": "[encoded data removed]",
      "text/plain": [
       "<Figure size 432x288 with 1 Axes>"
      ]
     },
     "metadata": {
      "needs_background": "light"
     },
     "output_type": "display_data"
    }
   ],
   "source": [
    "data = mdp.load_data.load_data(r\"tests/test_files/tested_data.csv\")  # If necessary edit csv_style={'sep': ';', 'decimal': ','}, header=6\n",
    "data.plot()"
   ]
  },
  {
   "cell_type": "markdown",
   "metadata": {
    "slideshow": {
     "slide_type": "slide"
    }
   },
   "source": [
    "## Load more data files at once"
   ]
  },
  {
   "cell_type": "markdown",
   "metadata": {},
   "source": [
    "### Get list of paths\n",
    "\n",
    "You can select data simply with dialog window\n",
    "\n",
    "Uncomment line to try it out"
   ]
  },
  {
   "cell_type": "code",
   "execution_count": 5,
   "metadata": {},
   "outputs": [
    {
     "name": "stdout",
     "output_type": "stream",
     "text": [
      "['tests/test_files/tested_data.csv', 'tests/test_files/tested_data2.csv']\n"
     ]
    }
   ],
   "source": [
    "paths = [\"tests/test_files/tested_data.csv\", \"tests/test_files/tested_data2.csv\"]\n",
    "# paths = mdp.load_data.get_file_paths()\n",
    "print(paths)"
   ]
  },
  {
   "cell_type": "code",
   "execution_count": 6,
   "metadata": {
    "scrolled": true,
    "slideshow": {
     "slide_type": "subslide"
    }
   },
   "outputs": [
    {
     "name": "stdout",
     "output_type": "stream",
     "text": [
      "   -0.25\n",
      "0  -0.24\n",
      "1  -0.29\n",
      "2  -0.13\n",
      "3  -0.09\n",
      "4  -0.34\n"
     ]
    }
   ],
   "source": [
    "data = mdp.load_data.load_data(paths, csv_style={'sep': ';', 'decimal': ','}, header=6)\n",
    "# Length is twice as long as two files was used\n",
    "print(data.head())"
   ]
  },
  {
   "cell_type": "markdown",
   "metadata": {
    "slideshow": {
     "slide_type": "slide"
    }
   },
   "source": [
    "## Consolidation\n",
    "\n",
    "Remove NaN values, resample or do string embedding"
   ]
  },
  {
   "cell_type": "code",
   "execution_count": 7,
   "metadata": {
    "slideshow": {
     "slide_type": "subslide"
    }
   },
   "outputs": [
    {
     "name": "stdout",
     "output_type": "stream",
     "text": [
      "                 Temp\n",
      "Date                 \n",
      "1981-01-31  17.712904\n",
      "1981-02-28  17.678572\n",
      "1981-03-31  13.500000\n",
      "1981-04-30  12.356667\n",
      "1981-05-31   9.490322\n"
     ]
    }
   ],
   "source": [
    "data = mdp.load_data.load_data(r\"https://raw.githubusercontent.com/jbrownlee/Datasets/master/daily-min-temperatures.csv\")\n",
    "\n",
    "# You can use intellisense and docs tooltip or you can use 'update' function with dict of\n",
    "# values (no need of subconfig then)\n",
    "consolidation_config = mdp.consolidation.consolidation_config.default_consolidation_config.copy()\n",
    "consolidation_config.datetime.datetime_column = 'Date'\n",
    "consolidation_config.resample.resample = 'M'\n",
    "consolidation_config.resample.resample_function = \"mean\"\n",
    "consolidation_config.dtype = 'float32'\n",
    "\n",
    "data = mdp.consolidation.consolidate_data(data, consolidation_config)\n",
    "print(data.head())"
   ]
  },
  {
   "cell_type": "markdown",
   "metadata": {
    "slideshow": {
     "slide_type": "slide"
    }
   },
   "source": [
    "## Format conversion\n",
    "\n",
    "Because data are consolidated (everytime in the same format), it's very simple to convert it to any format.\n"
   ]
  },
  {
   "cell_type": "code",
   "execution_count": 8,
   "metadata": {
    "scrolled": true,
    "slideshow": {
     "slide_type": "subslide"
    }
   },
   "outputs": [],
   "source": [
    "parquet_converted = data.to_parquet('tests/test_files/data.parquet')"
   ]
  },
  {
   "cell_type": "markdown",
   "metadata": {},
   "source": [
    "## Feature extraction\n",
    "\n",
    "Create new columns that can be for example used as another machine learning model input."
   ]
  },
  {
   "cell_type": "code",
   "execution_count": 9,
   "metadata": {},
   "outputs": [
    {
     "name": "stdout",
     "output_type": "stream",
     "text": [
      "Index([                      0,                       1,\n",
      "              '0 - Difference',        '1 - Difference',\n",
      "       '0 - Second difference', '1 - Second difference',\n",
      "        'Multiplicated (0, 1)',      '0 - Rolling mean',\n",
      "            '1 - Rolling mean',       '0 - Rolling std',\n",
      "             '1 - Rolling std',     '0 - Mean distance',\n",
      "           '1 - Mean distance'],\n",
      "      dtype='object')\n",
      "\n",
      "it has less rows then on input 21\n"
     ]
    }
   ],
   "source": [
    "import mydatapreprocessing.feature_engineering as mdpf\n",
    "import mydatapreprocessing as mdp\n",
    "\n",
    "data = pd.DataFrame(\n",
    "    [mdp.datasets.sin(n=30), mdp.datasets.ramp(n=30)]\n",
    ").T\n",
    "\n",
    "extended = mdpf.add_derived_columns(data, differences=True, rolling_means=10)\n",
    "print(extended.columns)\n",
    "print(f\"\\nit has less rows then on input {len(extended)}\")"
   ]
  },
  {
   "cell_type": "markdown",
   "metadata": {
    "slideshow": {
     "slide_type": "slide"
    }
   },
   "source": [
    "## Preprocessing\n",
    "\n",
    "Functions for smoothing, standardization, outliers removal etc...\n"
   ]
  },
  {
   "cell_type": "code",
   "execution_count": 10,
   "metadata": {},
   "outputs": [
    {
     "name": "stdout",
     "output_type": "stream",
     "text": [
      "\n",
      "Input data: \n",
      "        0     1         2\n",
      "0    0.0  20.0  0.268165\n",
      "1    1.0  21.0  1.843659\n",
      "2  500.0  22.0  0.813387\n",
      "3    3.0  23.0  0.467159\n",
      "4    4.0  24.0 -0.696764\n",
      "\n",
      "Preprocessed: \n",
      " [[ 0.          0.          1.660954  ]\n",
      " [ 1.4142135   0.         -0.7213848 ]\n",
      " [-1.4142135   0.         -0.0959927 ]\n",
      " [ 0.          0.         -0.84357643]]\n",
      "\n",
      "Inverse preprocessed: \n",
      " [  1. 500.   3.   4.]\n",
      "\n",
      "Is the inverse preprocessed data same like before preprocessing: \n",
      " True\n"
     ]
    }
   ],
   "source": [
    "import numpy as np\n",
    "import pandas as pd\n",
    "from mydatapreprocessing import preprocessing as mdpp\n",
    "\n",
    "df = pd.DataFrame(np.array([range(5), range(20, 25), np.random.randn(5)]).astype(\"float32\").T)\n",
    "df.iloc[2, 0] = 500\n",
    "print(\"\\nInput data: \\n\", df)\n",
    "\n",
    "config = mdpp.preprocessing_config.default_preprocessing_config.copy()\n",
    "config.update({\"remove_outliers\": None, \"difference_transform\": True, \"standardize\": \"standardize\"})\n",
    "\n",
    "data_preprocessed, inverse_config = mdpp.preprocess_data(df.values, config)\n",
    "print(\"\\nPreprocessed: \\n\", data_preprocessed)\n",
    "\n",
    "# If using for prediction, default last value is used for inverse transform. Here for test using first value\n",
    "# is used to check whether original data will be restored.\n",
    "inverse_config.difference_transform = df.iloc[0, 0]\n",
    "data_preprocessed_inverse = mdpp.preprocess_data_inverse(data_preprocessed[:, 0], inverse_config)\n",
    "print(\"\\nInverse preprocessed: \\n\", data_preprocessed_inverse)\n",
    "print(\"\\nIs the inverse preprocessed data same like before preprocessing: \\n\", np.allclose(df.values[1:, 0], data_preprocessed_inverse, atol=1.0e-5))"
   ]
  }
 ],
 "metadata": {
  "celltoolbar": "Slideshow",
  "kernelspec": {
   "display_name": "Python 3.7.0 ('3.7': venv)",
   "language": "python",
   "name": "python3"
  },
  "language_info": {
   "codemirror_mode": {
    "name": "ipython",
    "version": 3
   },
   "file_extension": ".py",
   "mimetype": "text/x-python",
   "name": "python",
   "nbconvert_exporter": "python",
   "pygments_lexer": "ipython3",
   "version": "3.7.0"
  },
  "vscode": {
   "interpreter": {
    "hash": "778640169a97c64df9ee49963d02e66943e2d308e037099470ca33c16b601882"
   }
  }
 },
 "nbformat": 4,
 "nbformat_minor": 2
}
